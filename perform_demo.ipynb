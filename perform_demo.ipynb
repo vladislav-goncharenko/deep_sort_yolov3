{
 "cells": [
  {
   "cell_type": "code",
   "execution_count": null,
   "metadata": {},
   "outputs": [],
   "source": [
    "from pathlib import Path\n",
    "from importlib import reload\n",
    "from IPython.display import display\n",
    "import json\n",
    "\n",
    "import numpy as np\n",
    "import matplotlib.pyplot as plt\n",
    "import matplotlib.patches as patches"
   ]
  },
  {
   "cell_type": "code",
   "execution_count": null,
   "metadata": {},
   "outputs": [],
   "source": [
    "folder_name = 'bu'\n",
    "pattern = '*.mp4'"
   ]
  },
  {
   "cell_type": "code",
   "execution_count": null,
   "metadata": {},
   "outputs": [],
   "source": [
    "curr_dir = Path('./').resolve()\n",
    "display(curr_dir)\n",
    "\n",
    "data_dir = Path('/mnt/nfs/buses')\n",
    "display(data_dir)\n",
    "\n",
    "videos_dir = data_dir/folder_name\n",
    "display(videos_dir)\n",
    "print('{} videos in videos_dir'.format(len(list(videos_dir.glob(pattern)))))\n",
    "\n",
    "out_dir = data_dir/'{}_res_deepsort'.format(folder_name)\n",
    "out_dir.mkdir(exist_ok=True)\n",
    "display(out_dir)"
   ]
  },
  {
   "cell_type": "code",
   "execution_count": null,
   "metadata": {},
   "outputs": [],
   "source": [
    "from PIL import Image\n",
    "import tensorflow as tf\n",
    "\n",
    "from detector import detector\n",
    "\n",
    "from tools import generate_detections as gdet\n",
    "from deep_sort import nn_matching\n",
    "from deep_sort.tracker import Tracker\n",
    "from utils import read_frames\n",
    "import demo"
   ]
  },
  {
   "cell_type": "code",
   "execution_count": null,
   "metadata": {},
   "outputs": [],
   "source": [
    "sess = tf.Session()\n",
    "yolo = detector.YOLOv3(\n",
    "    session=sess,\n",
    "    gpu_num=0,\n",
    "    class_names='/mnt/nfs/detectors/yolov3-tf/names/persons.names', \n",
    "    weights_file='/mnt/nfs/yolov3-persons_final0609.weights',\n",
    "    size=640,\n",
    ")"
   ]
  },
  {
   "cell_type": "code",
   "execution_count": null,
   "metadata": {},
   "outputs": [],
   "source": [
    "# Definition of the parameters\n",
    "max_cosine_distance = 0.3\n",
    "nn_budget = None\n",
    "\n",
    "# deep_sort \n",
    "model_filename = 'model_data/mars-small128.pb'\n",
    "encoder = gdet.create_box_encoder(model_filename, batch_size=1)\n",
    "\n",
    "metric = nn_matching.NearestNeighborDistanceMetric(\"cosine\", max_cosine_distance, nn_budget)\n",
    "tracker = Tracker(metric)"
   ]
  },
  {
   "cell_type": "code",
   "execution_count": null,
   "metadata": {},
   "outputs": [],
   "source": [
    "def plot_image(\n",
    "    image,\n",
    "    title: str='',\n",
    "    *,\n",
    "    figsize: tuple=(20, 5),\n",
    "    boxes: list=[],\n",
    "    extra_operations=lambda: None\n",
    "):\n",
    "    '''\n",
    "    boxes - list of tuples of (x_min, x_max, y_min, y_max)\n",
    "        remember that matplotlib's coordinates x is horizontal, y is vertical\n",
    "    extra_operations - lambda with everything you want to do to plt\n",
    "    '''\n",
    "    plt.figure(figsize=figsize)\n",
    "    plt.imshow(\n",
    "        image,\n",
    "#         origin='lower', # for axis to be right pair of verctors\n",
    "    )\n",
    "    plt.title(title)\n",
    "    plt.xlabel('y')\n",
    "    plt.ylabel('x')\n",
    "    for box in boxes:\n",
    "        rect = patches.Rectangle(\n",
    "            (box[0], box[1]),\n",
    "            box[2],\n",
    "            box[3],\n",
    "            linewidth=3,\n",
    "            edgecolor='g',\n",
    "            facecolor='none',\n",
    "        )\n",
    "        plt.gca().add_patch(rect)\n",
    "    extra_operations()\n",
    "    plt.show()"
   ]
  },
  {
   "cell_type": "code",
   "execution_count": null,
   "metadata": {},
   "outputs": [],
   "source": [
    "video_paths = [\n",
    "    videos_dir/name for name in [\n",
    "        '2018-12-17_17-50-34.mp4',\n",
    "        '2018-12-17_15-48-54.mp4',\n",
    "        '2018-12-17_16-16-57.mp4',\n",
    "        '2018-12-16_18-03-55.mp4',\n",
    "        '2018-12-16_17-36-55.mp4',\n",
    "    ]\n",
    "]"
   ]
  },
  {
   "cell_type": "code",
   "execution_count": null,
   "metadata": {
    "scrolled": false
   },
   "outputs": [],
   "source": [
    "# check yolo detections on one frame or video\n",
    "for i, video_path in enumerate(video_paths):\n",
    "    for frame in read_frames(video_path):\n",
    "        image = Image.fromarray(frame)\n",
    "        yolo_dets = yolo.predict_tracker(image)\n",
    "        boxes = [[int(d) for d in det[2:6]] for det in yolo_dets]\n",
    "        print('boxes', boxes)\n",
    "        plot_image(\n",
    "            frame,\n",
    "            figsize=(20, 10),\n",
    "            boxes=boxes,\n",
    "        )\n",
    "        break\n",
    "    break"
   ]
  },
  {
   "cell_type": "code",
   "execution_count": null,
   "metadata": {},
   "outputs": [],
   "source": [
    "for video_path in out_dir.glob(pattern):\n",
    "    print(video_path)\n",
    "    yolo_dets_path = video_path.with_suffix('.yolo.json')\n",
    "    with open(yolo_dets_path) as file:\n",
    "        yolo_dets = json.load(file)\n",
    "    print(len(yolo_dets))\n",
    "    display(yolo_dets[0])\n",
    "    \n",
    "    for frame, dets in zip(read_frames(video_path), yolo_dets):\n",
    "        plot_image(\n",
    "            frame,\n",
    "            figsize=(20, 10),\n",
    "            boxes=boxes,\n",
    "        )\n",
    "        break"
   ]
  },
  {
   "cell_type": "code",
   "execution_count": null,
   "metadata": {},
   "outputs": [],
   "source": [
    "a = np.arange(10)\n",
    "print(a)"
   ]
  },
  {
   "cell_type": "code",
   "execution_count": null,
   "metadata": {
    "scrolled": false
   },
   "outputs": [],
   "source": [
    "%%time\n",
    "\n",
    "reload(demo)\n",
    "\n",
    "# reload_tracker(tracker)\n",
    "\n",
    "reports = []\n",
    "\n",
    "# for i, video_path in enumerate(videos_dir.glob(pattern)):\n",
    "for i, video_path in enumerate(video_paths):\n",
    "    print('processing video:', i, video_path)\n",
    "    report = demo.process_video(video_path, out_dir, yolo, metric, tracker, encoder, write_video=True, write_yolo=True)\n",
    "    reports.append(report)\n",
    "    tracker.reset()\n",
    "\n",
    "    if i > -1: break\n",
    "\n",
    "with open(out_dir/'report_{}.json'.format(folder_name), 'w') as file:\n",
    "    json.dump(reports, file)"
   ]
  },
  {
   "cell_type": "code",
   "execution_count": null,
   "metadata": {},
   "outputs": [],
   "source": []
  }
 ],
 "metadata": {
  "kernelspec": {
   "display_name": "Python [conda env:tf_py36]",
   "language": "python",
   "name": "conda-env-tf_py36-py"
  },
  "language_info": {
   "codemirror_mode": {
    "name": "ipython",
    "version": 3
   },
   "file_extension": ".py",
   "mimetype": "text/x-python",
   "name": "python",
   "nbconvert_exporter": "python",
   "pygments_lexer": "ipython3",
   "version": "3.6.8"
  }
 },
 "nbformat": 4,
 "nbformat_minor": 2
}
